{
 "cells": [
  {
   "cell_type": "markdown",
   "metadata": {},
   "source": [
    "## Temperature experiments\n",
    "Investigate critical slowing down by measuring correlation time and average cluster size as a function of temperature\n",
    "\n",
    "Experimental parameters:\n",
    "* `algorithm = {'metropolis', 'wolff', 'sw'}`: change this to change the algorithm\n",
    "* `L: int`: lattice width\n",
    "* `betaJs: np.array`: range of temperatures to be investigated\n",
    "* `eq_fraction: float`: the fraction of total simulation time used for equilibration, value between 0 and 1\n",
    "* `t_maxs: np.array`: total simulation time for each $\\beta J$ value. Same length as `betaJs`\n",
    "* `runs_array: np.array`: number of runs for each $\\beta J$ value. Same length as `betaJs`\n",
    "* `n_batches: int`: number of batches used for batching approach"
   ]
  },
  {
   "cell_type": "code",
   "execution_count": null,
   "metadata": {},
   "outputs": [],
   "source": [
    "import sys\n",
    "import numpy as np\n",
    "import matplotlib.pyplot as plt\n",
    "import pandas as pd\n",
    "from tqdm import tqdm\n",
    "from importlib import reload\n",
    "\n",
    "sys.path.append('../bin')\n",
    "import mcmc\n",
    "import helpers\n",
    "import plotting\n",
    "\n",
    "reload(mcmc)\n",
    "reload(helpers)\n",
    "reload(plotting);"
   ]
  },
  {
   "cell_type": "markdown",
   "metadata": {},
   "source": [
    "### Sampling using runs"
   ]
  },
  {
   "cell_type": "code",
   "execution_count": null,
   "metadata": {},
   "outputs": [],
   "source": [
    "algorithm = 'wolff'\n",
    "\n",
    "L = 25\n",
    "betaJs = np.linspace(0.2,0.6,20)\n",
    "eq_fraction = 0.8\n",
    "t_maxs = np.ones(len(betaJs)) * L**2\n",
    "runs_array = 20 * np.ones(len(betaJs))"
   ]
  },
  {
   "cell_type": "code",
   "execution_count": null,
   "metadata": {},
   "outputs": [],
   "source": [
    "data_points_runs = mcmc.temperature_experiment_runs(algorithm, L, betaJs, t_maxs, eq_fraction, runs_array, savedata=True)"
   ]
  },
  {
   "cell_type": "code",
   "execution_count": null,
   "metadata": {},
   "outputs": [],
   "source": [
    "data_points_runs"
   ]
  },
  {
   "cell_type": "markdown",
   "metadata": {},
   "source": [
    "### Separate code for computing average Wolff cluster size $\\langle n\\rangle$ and scaled Wolff correlation time"
   ]
  },
  {
   "cell_type": "code",
   "execution_count": null,
   "metadata": {},
   "outputs": [],
   "source": [
    "L = 25\n",
    "betaJs = np.linspace(0.2,0.6,20)\n",
    "eq_fraction = 0.8\n",
    "t_maxs = np.ones(len(betaJs)) * L**2\n",
    "runs_array = 20 * np.ones(len(betaJs))"
   ]
  },
  {
   "cell_type": "code",
   "execution_count": null,
   "metadata": {},
   "outputs": [],
   "source": [
    "data_points_wolff = mcmc.temperature_experiment_runs_wolff(L, betaJs, runs_array, savedata = True)"
   ]
  },
  {
   "cell_type": "code",
   "execution_count": null,
   "metadata": {},
   "outputs": [],
   "source": [
    "data_points_wolff"
   ]
  },
  {
   "cell_type": "markdown",
   "metadata": {},
   "source": [
    "### Sampling using batching (not used in final results)"
   ]
  },
  {
   "cell_type": "code",
   "execution_count": null,
   "metadata": {},
   "outputs": [],
   "source": [
    "algorithm = 'sw'\n",
    "L = 25\n",
    "betaJs = np.linspace(0.2,0.6,20)\n",
    "eq_fraction = 0.8\n",
    "t_maxs = np.ones(len(betaJs)) * 10000\n",
    "n_batches = 100"
   ]
  },
  {
   "cell_type": "code",
   "execution_count": null,
   "metadata": {},
   "outputs": [],
   "source": [
    "data_points_batched = mcmc.temperature_experiment_batch(algorithm, L, betaJs, t_maxs, eq_fraction, n_batches, savedata=True)"
   ]
  },
  {
   "cell_type": "code",
   "execution_count": null,
   "metadata": {},
   "outputs": [],
   "source": [
    "data_points_batched"
   ]
  }
 ],
 "metadata": {
  "kernelspec": {
   "display_name": "Python 3 (ipykernel)",
   "language": "python",
   "name": "python3"
  },
  "language_info": {
   "codemirror_mode": {
    "name": "ipython",
    "version": 3
   },
   "file_extension": ".py",
   "mimetype": "text/x-python",
   "name": "python",
   "nbconvert_exporter": "python",
   "pygments_lexer": "ipython3",
   "version": "3.9.6"
  }
 },
 "nbformat": 4,
 "nbformat_minor": 4
}
