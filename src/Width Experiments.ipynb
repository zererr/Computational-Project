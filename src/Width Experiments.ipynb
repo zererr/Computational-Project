{
 "cells": [
  {
   "cell_type": "markdown",
   "metadata": {},
   "source": [
    "## Width experiments\n",
    "Investigate dynamic exponent of algorithms by measuring correlation time as a function of lattice width.\n",
    "\n",
    "Change the `algorithm = {'metropolis', 'wolff', 'sw'}` variable to test the different algorithms.\n",
    "\n",
    "Experimental parameters:\n",
    "* `algorithm = {'metropolis', 'wolff', 'sw'}`: change this to change the algorithm\n",
    "* `Ls: np.array`: range of lattice widths to be investigated\n",
    "* `runs_array: np.array`: number of runs for each $L$ value. Same length as `Ls`\n",
    "* `t_maxs: np.array`: total simulation time for each $L$ value. Same length as `Ls`\n",
    "* `eq_fraction: float`: the fraction of total simulation time used for equilibration, value between 0 and 1\n",
    "* `n_batches: int`: number of batches used for batching approach"
   ]
  },
  {
   "cell_type": "code",
   "execution_count": null,
   "metadata": {},
   "outputs": [],
   "source": [
    "import sys\n",
    "import numpy as np\n",
    "import matplotlib.pyplot as plt\n",
    "import pandas as pd\n",
    "from tqdm import tqdm\n",
    "from importlib import reload\n",
    "\n",
    "sys.path.append('../bin')\n",
    "import mcmc\n",
    "import helpers\n",
    "import plotting\n",
    "\n",
    "reload(mcmc)\n",
    "reload(helpers)\n",
    "reload(plotting);"
   ]
  },
  {
   "cell_type": "markdown",
   "metadata": {},
   "source": [
    "### Sampling using runs"
   ]
  },
  {
   "cell_type": "code",
   "execution_count": null,
   "metadata": {},
   "outputs": [],
   "source": [
    "algorithm = 'wolff'\n",
    "\n",
    "Ls = np.array([5])\n",
    "runs_array = np.ones(len(Ls)) * 50\n",
    "t_maxs = Ls**2\n",
    "eq_fraction = 0.6"
   ]
  },
  {
   "cell_type": "code",
   "execution_count": null,
   "metadata": {},
   "outputs": [],
   "source": [
    "data_points_runs = mcmc.width_experiment_runs(algorithm, Ls, t_maxs, eq_fraction, runs_array, savedata = True)"
   ]
  },
  {
   "cell_type": "code",
   "execution_count": null,
   "metadata": {},
   "outputs": [],
   "source": [
    "data_points_runs"
   ]
  },
  {
   "cell_type": "markdown",
   "metadata": {},
   "source": [
    "### Sampling using batching (not used in final results)"
   ]
  },
  {
   "cell_type": "code",
   "execution_count": null,
   "metadata": {},
   "outputs": [],
   "source": [
    "algorithm = 'wolff'\n",
    "Ls = np.linspace(4, 150, 20, dtype=int)\n",
    "eq_fraction = 0.6\n",
    "t_maxs = np.ones(len(Ls)) * 10000\n",
    "n_batches = 100"
   ]
  },
  {
   "cell_type": "code",
   "execution_count": null,
   "metadata": {},
   "outputs": [],
   "source": [
    "data_points_batched = mcmc.width_experiment_batch(algorithm, Ls, t_maxs, eq_fraction, n_batches, savedata = True)"
   ]
  },
  {
   "cell_type": "code",
   "execution_count": null,
   "metadata": {},
   "outputs": [],
   "source": [
    "data_points_batched"
   ]
  }
 ],
 "metadata": {
  "kernelspec": {
   "display_name": "Python 3 (ipykernel)",
   "language": "python",
   "name": "python3"
  },
  "language_info": {
   "codemirror_mode": {
    "name": "ipython",
    "version": 3
   },
   "file_extension": ".py",
   "mimetype": "text/x-python",
   "name": "python",
   "nbconvert_exporter": "python",
   "pygments_lexer": "ipython3",
   "version": "3.9.6"
  }
 },
 "nbformat": 4,
 "nbformat_minor": 4
}
