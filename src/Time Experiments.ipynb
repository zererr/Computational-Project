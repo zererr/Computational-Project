{
 "cells": [
  {
   "cell_type": "markdown",
   "metadata": {},
   "source": [
    "## Time Experiments\n",
    "Investigate the time evolution of the 2D Ising Model. \n",
    "\n",
    "Experimental parameters:\n",
    "* `algorithm` $\\in$ `{'metropolis', 'wolff', 'sw'}`: change this to change the algorithm\n",
    "* `L: int`: lattice width\n",
    "* `N: int`: number of lattice sites $=L^2$\n",
    "* `betaJs: np.array`: range of temperatures to be investigated\n",
    "* `t_maxs: np.array`: total simulation time for each $\\beta J$ value. Same length as `betaJs`"
   ]
  },
  {
   "cell_type": "code",
   "execution_count": null,
   "metadata": {},
   "outputs": [],
   "source": [
    "import sys\n",
    "import numpy as np\n",
    "import matplotlib.pyplot as plt\n",
    "import pandas as pd\n",
    "from tqdm import tqdm\n",
    "from importlib import reload\n",
    "\n",
    "sys.path.append('../bin')\n",
    "import mcmc\n",
    "import helpers\n",
    "import plotting\n",
    "\n",
    "reload(mcmc)\n",
    "reload(helpers)\n",
    "reload(plotting);"
   ]
  },
  {
   "cell_type": "markdown",
   "metadata": {},
   "source": [
    "### Time evolution of Ising Model at different temperatures"
   ]
  },
  {
   "cell_type": "code",
   "execution_count": null,
   "metadata": {},
   "outputs": [],
   "source": [
    "algorithm = 'metropolis'\n",
    "\n",
    "L = 4\n",
    "N = L ** 2\n",
    "betaJs = np.array([0.01, 0.440, 10])\n",
    "t_maxs = np.ones(len(betaJs)) * N\n",
    "\n",
    "assert(len(betaJs) > 1 and len(t_maxs) > 1) # Plot functions below require more than one temperature\n",
    "\n",
    "data_points = mcmc.time_experiment(algorithm, L, betaJs, t_maxs, savedata = False)"
   ]
  },
  {
   "cell_type": "code",
   "execution_count": null,
   "metadata": {},
   "outputs": [],
   "source": [
    "# Plot lattice evolution\n",
    "plot_times = np.concatenate((np.array([0]), np.logspace(0, np.log10(N-1), 5, dtype=int)))\n",
    "\n",
    "plotting.plot_lattice_evolution(algorithm, L, betaJs, plot_times, data_points, savefig = False)"
   ]
  },
  {
   "cell_type": "code",
   "execution_count": null,
   "metadata": {},
   "outputs": [],
   "source": [
    "# Plot magnetisation traces\n",
    "plotting.plot_trace(algorithm, L, 'magnetisation', 'm', data_points, savefig = False)"
   ]
  },
  {
   "cell_type": "code",
   "execution_count": null,
   "metadata": {},
   "outputs": [],
   "source": [
    "# Plot absolute magnetisation traces\n",
    "plotting.plot_trace(algorithm, L, 'absolute magnetisation', '|m|', data_points, savefig = False)"
   ]
  },
  {
   "cell_type": "code",
   "execution_count": null,
   "metadata": {},
   "outputs": [],
   "source": [
    "# Plot energy traces\n",
    "plotting.plot_trace(algorithm, L, 'energy', '$\\\\beta E$', data_points, savefig = False)"
   ]
  }
 ],
 "metadata": {
  "kernelspec": {
   "display_name": "Python 3",
   "language": "python",
   "name": "python3"
  },
  "language_info": {
   "codemirror_mode": {
    "name": "ipython",
    "version": 3
   },
   "file_extension": ".py",
   "mimetype": "text/x-python",
   "name": "python",
   "nbconvert_exporter": "python",
   "pygments_lexer": "ipython3",
   "version": "3.9.6"
  }
 },
 "nbformat": 4,
 "nbformat_minor": 2
}
