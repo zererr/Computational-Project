{
 "cells": [
  {
   "cell_type": "markdown",
   "metadata": {},
   "source": [
    "## Data Analysis and Plotting\n",
    "\n",
    "This notebook is used for analysing the data collected from the experimental notebooks Temperature Experiments.ipynb and Width Experiments.ipynb. For Time Experiments.ipynb, the data collection and plotting is self-contained."
   ]
  },
  {
   "cell_type": "code",
   "execution_count": null,
   "metadata": {},
   "outputs": [],
   "source": [
    "import sys\n",
    "import numpy as np\n",
    "import matplotlib.pyplot as plt\n",
    "import pandas as pd\n",
    "from tqdm import tqdm\n",
    "from importlib import reload\n",
    "\n",
    "sys.path.append('../bin')\n",
    "import mcmc\n",
    "import helpers\n",
    "import plotting\n",
    "\n",
    "reload(mcmc)\n",
    "reload(helpers)\n",
    "reload(plotting);"
   ]
  },
  {
   "cell_type": "markdown",
   "metadata": {},
   "source": [
    "### Temperature plotting"
   ]
  },
  {
   "cell_type": "code",
   "execution_count": null,
   "metadata": {},
   "outputs": [],
   "source": [
    "# Metropolis\n",
    "algorithm = 'metropolis'\n",
    "L = 25\n",
    "\n",
    "data_points = plotting.load_data(algorithm, L, 'temperature')\n",
    "\n",
    "plotting.plot_critical_slowing_down(data_points, algorithm, L, savefig=False)\n",
    "\n",
    "# Additional plots for average Wolff cluster size and scaled Wolff plots\n",
    "if algorithm == 'wolff':\n",
    "    plotting.plot_wolff_cluster_size(L, savefig=False)\n",
    "    plotting.plot_scaled_wolff_sweeps(L, savefig=False)"
   ]
  },
  {
   "cell_type": "markdown",
   "metadata": {},
   "source": [
    "### Width plotting"
   ]
  },
  {
   "cell_type": "code",
   "execution_count": null,
   "metadata": {},
   "outputs": [],
   "source": [
    "algorithm = 'metropolis'\n",
    "data_points = plotting.load_data(algorithm, -1, 'width') #-1 because L is the variable here"
   ]
  },
  {
   "cell_type": "code",
   "execution_count": null,
   "metadata": {},
   "outputs": [],
   "source": [
    "m, c, m_err, c_err = plotting.estimate_dynamic_exponent(data_points, algorithm)\n",
    "plotting.print_dynamic_exponent(m, m_err, algorithm)"
   ]
  },
  {
   "cell_type": "code",
   "execution_count": null,
   "metadata": {},
   "outputs": [],
   "source": [
    "plotting.plot_dynamic_exponent(data_points, algorithm, m, m_err, c, text_x = 2.5, text_y = 0, savefig=False)"
   ]
  }
 ],
 "metadata": {
  "kernelspec": {
   "display_name": "Python 3",
   "language": "python",
   "name": "python3"
  },
  "language_info": {
   "codemirror_mode": {
    "name": "ipython",
    "version": 3
   },
   "file_extension": ".py",
   "mimetype": "text/x-python",
   "name": "python",
   "nbconvert_exporter": "python",
   "pygments_lexer": "ipython3",
   "version": "3.9.6"
  }
 },
 "nbformat": 4,
 "nbformat_minor": 2
}
